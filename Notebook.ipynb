{
 "cells": [
  {
   "attachments": {},
   "cell_type": "markdown",
   "metadata": {},
   "source": [
    "# Profitable App Profiles for the App Store and Google Play Markets\n",
    "\n",
    "Our aim in this project is to find mobile app profiles that are profitable for the App Store and Google Play markets. We're working as data analysts for a company that builds Android and iOS mobile apps, and our job is to enable our team of developers to make data-driven decisions with respect to the kind of apps they build.\n",
    "\n",
    "At our company, we only build apps that are free to download and install, and our main source of revenue consists of in-app ads. This means that our revenue for any given app is mostly influenced by the number of users that use our app. Our goal for this project is to analyze data to help our developers understand what kinds of apps are likely to attract more users.\n",
    "\n",
    "Collecting data for over 4 million apps requires a significant amount of time and money, so we'll try to analyze a sample of the data instead. To avoid spending resources on collecting new data ourselves, we should first try to see if we can find any relevant existing data at no cost. Luckily, here are two datasets that seem suitable for our goals:\n",
    "\n",
    "- [A data set](https://www.kaggle.com/lava18/google-play-store-apps) containing data about approximately 10,000 Android apps from Google Play; the data was collected in August 2018. You can download the dataset directly from [this link](https://dq-content.s3.amazonaws.com/350/googleplaystore.csv).\n",
    "\n",
    "- [A data set](https://www.kaggle.com/ramamet4/app-store-apple-data-set-10k-apps) containing data about approximately 7,000 iOS apps from the App Store; the data was collected in July 2017. You can download the dataset directly from [this link](https://dq-content.s3.amazonaws.com/350/AppleStore.csv).\n",
    "\n",
    "We'll start by opening and exploring these two datasets. To make them easier for you to explore, we created a function named `explore_data()` that you can repeatedly use to print rows in a readable way."
   ]
  },
  {
   "cell_type": "code",
   "execution_count": 20,
   "metadata": {},
   "outputs": [
    {
     "name": "stdout",
     "output_type": "stream",
     "text": [
      "Apple store data:\n",
      "['1', '281656475', 'PAC-MAN Premium', '100788224', 'USD', '3.99', '21292', '26', '4', '4.5', '6.3.5', '4+', 'Games', '38', '5', '10', '1']\n",
      "\n",
      "\n",
      "['2', '281796108', 'Evernote - stay organized', '158578688', 'USD', '0', '161065', '26', '4', '3.5', '8.2.2', '4+', 'Productivity', '37', '5', '23', '1']\n",
      "\n",
      "\n",
      "['3', '281940292', 'WeatherBug - Local Weather, Radar, Maps, Alerts', '100524032', 'USD', '0', '188583', '2822', '3.5', '4.5', '5.0.0', '4+', 'Weather', '37', '5', '3', '1']\n",
      "\n",
      "\n",
      "['4', '282614216', 'eBay: Best App to Buy, Sell, Save! Online Shopping', '128512000', 'USD', '0', '262241', '649', '4', '4.5', '5.10.0', '12+', 'Shopping', '37', '5', '9', '1']\n",
      "\n",
      "\n",
      "['5', '282935706', 'Bible', '92774400', 'USD', '0', '985920', '5320', '4.5', '5', '7.5.1', '4+', 'Reference', '37', '5', '45', '1']\n",
      "\n",
      "\n",
      "Number of rows: 7197\n",
      "Number of columns: 17\n",
      "\n",
      "\n",
      "Google Play store:\n",
      "['Photo Editor & Candy Camera & Grid & ScrapBook', 'ART_AND_DESIGN', '4.1', '159', '19M', '10,000+', 'Free', '0', 'Everyone', 'Art & Design', 'January 7, 2018', '1.0.0', '4.0.3 and up']\n",
      "\n",
      "\n",
      "['Coloring book moana', 'ART_AND_DESIGN', '3.9', '967', '14M', '500,000+', 'Free', '0', 'Everyone', 'Art & Design;Pretend Play', 'January 15, 2018', '2.0.0', '4.0.3 and up']\n",
      "\n",
      "\n",
      "['U Launcher Lite – FREE Live Cool Themes, Hide Apps', 'ART_AND_DESIGN', '4.7', '87510', '8.7M', '5,000,000+', 'Free', '0', 'Everyone', 'Art & Design', 'August 1, 2018', '1.2.4', '4.0.3 and up']\n",
      "\n",
      "\n",
      "['Sketch - Draw & Paint', 'ART_AND_DESIGN', '4.5', '215644', '25M', '50,000,000+', 'Free', '0', 'Teen', 'Art & Design', 'June 8, 2018', 'Varies with device', '4.2 and up']\n",
      "\n",
      "\n",
      "['Pixel Draw - Number Art Coloring Book', 'ART_AND_DESIGN', '4.3', '967', '2.8M', '100,000+', 'Free', '0', 'Everyone', 'Art & Design;Creativity', 'June 20, 2018', '1.1', '4.4 and up']\n",
      "\n",
      "\n",
      "Number of rows: 10841\n",
      "Number of columns: 13\n"
     ]
    }
   ],
   "source": [
    "from csv import reader\n",
    "\n",
    "def open_data(data, header=True):\n",
    "    opened_file = open(data, encoding=\"utf8\")\n",
    "    read_file = reader(opened_file)\n",
    "    apps_data = list(read_file)\n",
    "    dataset = ()\n",
    "    if header:\n",
    "        dataset = apps_data[1:], apps_data[0]\n",
    "    else:\n",
    "        dataset = apps_data[:], \"No header\"\n",
    "    return dataset\n",
    "\n",
    "def explore_data(dataset, start, end, rows_and_columns=False):\n",
    "    dataset_slice = dataset[start:end]    \n",
    "    for row in dataset_slice:\n",
    "        print(row)\n",
    "        print('\\n') \n",
    "        \n",
    "    if rows_and_columns:\n",
    "        print('Number of rows:', len(dataset))\n",
    "        print('Number of columns:', len(dataset[0]))\n",
    "\n",
    "\n",
    "applestore = open_data('AppleStore.csv')\n",
    "googleplaystore = open_data('googleplaystore.csv')\n",
    "\n",
    "apple_data = applestore[0]\n",
    "google_data = googleplaystore[0]\n",
    "\n",
    "print(\"Apple store data:\")\n",
    "explore_data(apple_data, 0, 5, rows_and_columns=True)\n",
    "\n",
    "print('\\n')\n",
    "\n",
    "print('Google Play store:')\n",
    "explore_data(google_data, 0, 5, rows_and_columns=True)"
   ]
  },
  {
   "cell_type": "markdown",
   "metadata": {},
   "source": [
    "At our company, we only build apps that are free to download and install, and we design them for an English-speaking audience. This means that we'll need to do the following:\n",
    "\n",
    "- Remove non-English apps like 爱奇艺PPS -《欢乐颂2》电视剧热播.\n",
    "- Remove apps that aren't free.\n",
    "\n",
    "Thus we do data cleaning before the analysis; it includes removing or correcting wrong data, removing duplicate data, and modifying the data to fit the purpose of our analysis. We begin by detecting and deleting wrong data.\n",
    "\n",
    "The row 10472 corresponds to the app Life Made WI-Fi Touchscreen Photo Frame, and we can see that the rating is 19. This is clearly off because the maximum rating for a Google Play app is 5 (as mentioned in the discussions section, this problem is caused by a missing value in the 'Category' column). As a consequence, we'll delete this row"
   ]
  },
  {
   "cell_type": "code",
   "execution_count": 21,
   "metadata": {},
   "outputs": [
    {
     "name": "stdout",
     "output_type": "stream",
     "text": [
      "10841\n",
      "10840\n"
     ]
    }
   ],
   "source": [
    "print(len(google_data))\n",
    "del google_data[10472]\n",
    "print(len(google_data))\n",
    "# for row in google_data:\n",
    "#    for item in row:\n",
    "#        if len(item) < 1:\n",
    "#            break\n",
    "#    else:\n",
    "#        continue "
   ]
  },
  {
   "cell_type": "markdown",
   "metadata": {},
   "source": [
    "There's also discussion on the presence of duplicate apps being present in the data set. [This discussion](https://www.kaggle.com/datasets/ramamet4/app-store-apple-data-set-10k-apps/discussion/90409) here in particular raises the issue of the 'name' column having non-unique values. \n",
    "\n",
    "Our next step is find all the duplicates within the dataset, and then use this information to build a criterion for removing the duplicates. The higher the number of reviews, the more recent the data should be. Rather than removing duplicates randomly, we'll only keep the row with the highest number of reviews and remove the other entries for any given app.\n",
    "\n",
    "To remove the duplicates, we will do the following:\n",
    "\n",
    "- Create a dictionary, where each dictionary key is a unique app name and the corresponding dictionary value is the highest number of reviews of that app.\n",
    "- Use the information stored in the dictionary and create a new dataset, which will have only one entry per app (and for each app, we'll only select the entry with the highest number of reviews)."
   ]
  },
  {
   "cell_type": "code",
   "execution_count": 22,
   "metadata": {},
   "outputs": [
    {
     "name": "stdout",
     "output_type": "stream",
     "text": [
      "PAC-MAN Premium\n",
      "Evernote - stay organized\n",
      "WeatherBug - Local Weather, Radar, Maps, Alerts\n",
      "eBay: Best App to Buy, Sell, Save! Online Shopping\n",
      "21292.0\n"
     ]
    }
   ],
   "source": [
    "reviews_max_android = {}\n",
    "reviews_max_apple = {}\n",
    "\n",
    "for row in google_data:\n",
    "    name = row[0]\n",
    "    n_reviews = float(row[3])\n",
    "    if name in reviews_max_android and reviews_max_android[name] < n_reviews:\n",
    "        reviews_max_android[name] = n_reviews\n",
    "    if name not in reviews_max_android:\n",
    "        reviews_max_android[name] = n_reviews\n",
    "\n",
    "for row in apple_data:\n",
    "    name = row[2]\n",
    "    n_reviews = float(row[6])\n",
    "    if name in reviews_max_apple and reviews_max_apple[name] < n_reviews:\n",
    "        reviews_max_apple[name] = n_reviews\n",
    "    if name not in reviews_max_apple:\n",
    "        reviews_max_apple[name] = n_reviews\n",
    "\n",
    "count = 0\n",
    "for item in reviews_max_apple:\n",
    "    if count < 4:\n",
    "        print(item)\n",
    "        count += 1\n",
    "print(reviews_max_apple['PAC-MAN Premium'])"
   ]
  },
  {
   "cell_type": "markdown",
   "metadata": {},
   "source": [
    "Both datasets have apps with names that suggest they are not designed for an English-speaking audience. We're not interested in keeping these apps, so we'll remove them by removing each app with a name containing a symbol that isn't commonly used in English text. English text usually includes letters from the English alphabet, numbers composed of digits from 0 to 9, punctuation marks (., !, ?, ;), and other symbols (+, *, /). \n",
    "\n",
    "If an app name contains a character with an ASCII value greater than 127, then it probably means that the app has a non-English name. We'll next make a function that checks each charater within a string, and return a boolean based on if that string meets the criteria. To minimize the impact of data loss, we'll only remove an app if its name has more than three characters with corresponding numbers falling outside the ASCII range. This means all English apps with up to three emoji or other special characters will still be labeled as English."
   ]
  },
  {
   "cell_type": "code",
   "execution_count": 30,
   "metadata": {},
   "outputs": [
    {
     "name": "stdout",
     "output_type": "stream",
     "text": [
      "True\n"
     ]
    }
   ],
   "source": [
    "import math\n",
    "\n",
    "def num_check(num):\n",
    "    if math.isnan(num):\n",
    "        return False\n",
    "    else:\n",
    "        return True\n",
    "\n",
    "test = google_data[24]\n",
    "print(num_check(float(test[2])))"
   ]
  },
  {
   "cell_type": "code",
   "execution_count": 35,
   "metadata": {},
   "outputs": [
    {
     "name": "stdout",
     "output_type": "stream",
     "text": [
      "7566\n",
      "3861\n"
     ]
    }
   ],
   "source": [
    "def lang_check(string):\n",
    "    char_count = 0\n",
    "    for char in string:\n",
    "        if ord(char) > 127:\n",
    "            char_count += 1\n",
    "    \n",
    "    if char_count > 3:\n",
    "        return False\n",
    "    else:\n",
    "        return True\n",
    "\n",
    "\n",
    "# Loop through Google data to find apps with non-English titles\n",
    "android_clean = []\n",
    "already_added_android = []\n",
    "\n",
    "for row in google_data:\n",
    "    name = row[0]\n",
    "    name_check = lang_check(name)\n",
    "    n_reviews = float(row[3])\n",
    "    if n_reviews == reviews_max_android[name] and name_check and name not in already_added_android:\n",
    "        android_clean.append(row)\n",
    "        already_added_android.append(name)\n",
    "\n",
    "\n",
    "# Loop through Apple data to find apps with non-English titles\n",
    "apple_clean = []\n",
    "already_added_apple = []\n",
    "\n",
    "for row in apple_data:\n",
    "    name = row[2]\n",
    "    name_check = lang_check(name)\n",
    "    n_reviews = float(row[6])\n",
    "    if n_reviews == reviews_max_apple[name] and name_check and name not in already_added_apple:\n",
    "        apple_clean.append(row)\n",
    "        already_added_apple.append(name)\n",
    "\n",
    "\n",
    "\n",
    "# Isolate all free apps within the dataset\n",
    "free_apps_clean_android = []\n",
    "free_apps_clean_apple = []\n",
    "\n",
    "for row in android_clean:\n",
    "    if row[6] == 'Free' and num_check(float(row[2])):\n",
    "        free_apps_clean_android.append(row)\n",
    "\n",
    "for row in apple_clean:\n",
    "    price = float(row[5])\n",
    "    if price < 1:\n",
    "        free_apps_clean_apple.append(row)\n",
    "\n",
    "print(len(free_apps_clean_android))\n",
    "print(len(free_apps_clean_apple))"
   ]
  },
  {
   "cell_type": "markdown",
   "metadata": {},
   "source": [
    "our aim is to determine the kinds of apps that are likely to attract more users because our revenue is highly influenced by the number of people using our apps.\n",
    "\n",
    "To minimize risks and overhead, our validation strategy for an app idea is comprised of three steps:\n",
    "\n",
    "Build a minimal Android version of the app, and add it to Google Play.\n",
    "- If the app has a good response from users, we develop it further.\n",
    "- If the app is profitable after six months, we build an iOS version of the app and add it to the App Store.\n",
    "\n",
    "Let's begin the analysis by getting a sense of what are the most common genres for each market. For this, we'll need to build frequency tables for a few columns in our datasets"
   ]
  },
  {
   "cell_type": "code",
   "execution_count": 42,
   "metadata": {},
   "outputs": [
    {
     "name": "stdout",
     "output_type": "stream",
     "text": [
      "FAMILY : 19.614\n",
      "GAME : 10.851\n",
      "TOOLS : 8.684\n",
      "FINANCE : 3.82\n",
      "PRODUCTIVITY : 3.727\n",
      "LIFESTYLE : 3.688\n",
      "BUSINESS : 3.344\n",
      "PHOTOGRAPHY : 3.278\n",
      "SPORTS : 3.146\n",
      "COMMUNICATION : 3.093\n",
      "PERSONALIZATION : 3.08\n",
      "HEALTH_AND_FITNESS : 3.08\n",
      "MEDICAL : 3.013\n",
      "SOCIAL : 2.657\n",
      "NEWS_AND_MAGAZINES : 2.617\n",
      "TRAVEL_AND_LOCAL : 2.366\n",
      "SHOPPING : 2.353\n",
      "BOOKS_AND_REFERENCE : 2.102\n",
      "VIDEO_PLAYERS : 1.916\n",
      "DATING : 1.731\n",
      "MAPS_AND_NAVIGATION : 1.48\n",
      "EDUCATION : 1.348\n",
      "FOOD_AND_DRINK : 1.216\n",
      "ENTERTAINMENT : 1.123\n",
      "AUTO_AND_VEHICLES : 0.952\n",
      "WEATHER : 0.859\n",
      "LIBRARIES_AND_DEMO : 0.846\n",
      "HOUSE_AND_HOME : 0.806\n",
      "ART_AND_DESIGN : 0.727\n",
      "COMICS : 0.701\n",
      "PARENTING : 0.634\n",
      "EVENTS : 0.595\n",
      "BEAUTY : 0.555\n",
      "\n",
      "\n",
      "Games : 58.534\n",
      "Entertainment : 8.184\n",
      "Photo & Video : 5.361\n",
      "Education : 3.574\n",
      "Social Networking : 2.979\n",
      "Utilities : 2.927\n",
      "Shopping : 2.176\n",
      "Sports : 2.02\n",
      "Health & Fitness : 1.943\n",
      "Productivity : 1.813\n",
      "Music : 1.813\n",
      "Lifestyle : 1.658\n",
      "News : 1.217\n",
      "Travel : 1.114\n",
      "Finance : 1.036\n",
      "Weather : 0.881\n",
      "Food & Drink : 0.751\n",
      "Reference : 0.544\n",
      "Business : 0.518\n",
      "Book : 0.363\n",
      "Navigation : 0.311\n",
      "Medical : 0.181\n",
      "Catalogs : 0.104\n"
     ]
    }
   ],
   "source": [
    "def freq_table(dataset, index):\n",
    "    table = {}\n",
    "    total = 0\n",
    "    \n",
    "    for row in dataset:\n",
    "        total += 1\n",
    "        value = row[index]\n",
    "        if value in table:\n",
    "            table[value] += 1\n",
    "        else:\n",
    "            table[value] = 1\n",
    "    \n",
    "    table_percentages = {}\n",
    "    for key in table:\n",
    "        percentage = (table[key] / total) * 100\n",
    "        table_percentages[key] = round(percentage, 3) \n",
    "    \n",
    "    return table_percentages\n",
    "\n",
    "\n",
    "def display_table(dataset, index):\n",
    "    table = freq_table(dataset, index)\n",
    "    table_display = []\n",
    "    for key in table:\n",
    "        key_val_as_tuple = (key, table[key])\n",
    "        table_display.append(key_val_as_tuple)\n",
    "        \n",
    "    table_sorted = sorted(table_display, reverse = True)\n",
    "    for entry in table_sorted:\n",
    "        print(entry[1], ':', entry[0])\n",
    "\n",
    "print('Android ')\n",
    "display_table(free_apps_clean_android, 1)\n",
    "print('\\n')\n",
    "display_table(free_apps_clean_apple, 12)"
   ]
  },
  {
   "cell_type": "markdown",
   "metadata": {},
   "source": [
    "Examining the Apple App Store's 'Prime Genre' frequency table, we see that among the free English apps, more than a half (58.16%) are games. Entertainment apps are close to 8%, followed by photo and video apps, which are close to 5%. Only 3.66% of the apps are designed for education, followed by social networking apps which amount for 3.29% of the apps in our data set.\n",
    "\n",
    "The general impression is that App Store (at least the part containing free English apps) is dominated by apps that are designed for fun (games, entertainment, photo and video, social networking, sports, music, etc.), while apps with practical purposes (education, shopping, utilities, productivity, lifestyle, etc.) are more rare. However, the fact that fun apps are the most numerous doesn't also imply that they also have the greatest number of users — the demand might not be the same as the offer.\n",
    "\n",
    "Examining the Genres and Category columns of the Google Play data set, The landscape seems significantly different on Google Play: there are not that many apps designed for fun, and it seems that a good number of apps are designed for practical purposes (family, tools, business, lifestyle, productivity, etc.). However, if we investigate this further, we can see that the family category (which accounts for almost 19% of the apps) means mostly games for kids.\n",
    "\n",
    "One way to find out what genres are the most popular (have the most users) is to calculate the average number of installs for each app genre. For the Google Play dataset, we can find this information in the Installs column, but this information is missing for the App Store dataset. As a workaround, we'll take the total number of user ratings as a proxy, which we can find in the rating_count_tot app.\n",
    "\n",
    "Let's start with calculating the average number of user ratings per app genre on the App Store. To do that, we'll need to do the following:\n",
    "\n",
    "- Isolate the apps of each genre\n",
    "- Add up the user ratings for the apps of that genre\n",
    "- Divide the sum by the number of apps belonging to that genre (not by the total number of apps)"
   ]
  },
  {
   "cell_type": "code",
   "execution_count": null,
   "metadata": {},
   "outputs": [],
   "source": []
  }
 ],
 "metadata": {
  "kernelspec": {
   "display_name": "Python 3 (ipykernel)",
   "language": "python",
   "name": "python3"
  },
  "language_info": {
   "codemirror_mode": {
    "name": "ipython",
    "version": 3
   },
   "file_extension": ".py",
   "mimetype": "text/x-python",
   "name": "python",
   "nbconvert_exporter": "python",
   "pygments_lexer": "ipython3",
   "version": "3.11.1"
  },
  "vscode": {
   "interpreter": {
    "hash": "14833f91da73723a2b4c1ce3c01adbd9951dd874ca3ccf89822352e91dcd3fb6"
   }
  }
 },
 "nbformat": 4,
 "nbformat_minor": 2
}
